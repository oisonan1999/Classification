{
 "cells": [
  {
   "cell_type": "markdown",
   "metadata": {},
   "source": [
    "## Nhập các thư viện "
   ]
  },
  {
   "cell_type": "code",
   "execution_count": 22,
   "metadata": {},
   "outputs": [
    {
     "name": "stderr",
     "output_type": "stream",
     "text": [
      "[nltk_data] Downloading package stopwords to\n",
      "[nltk_data]     C:\\Users\\ADMIN\\AppData\\Roaming\\nltk_data...\n",
      "[nltk_data]   Package stopwords is already up-to-date!\n"
     ]
    }
   ],
   "source": [
    "import copy\n",
    "import numpy as np\n",
    "import matplotlib.pyplot as plt\n",
    "import re\n",
    "import nltk\n",
    "nltk.download('stopwords')\n",
    "from sklearn.model_selection import train_test_split\n",
    "from sklearn.feature_extraction.text import CountVectorizer\n",
    "from sklearn.preprocessing import LabelEncoder\n",
    "from sklearn.feature_selection import VarianceThreshold\n",
    "from imblearn.over_sampling import SMOTE\n",
    "from sklearn.dummy import DummyClassifier\n",
    "from sklearn.naive_bayes import MultinomialNB\n",
    "from sklearn.tree import DecisionTreeClassifier\n",
    "from sklearn.neural_network import MLPClassifier\n",
    "from sklearn.ensemble import RandomForestClassifier\n",
    "#from sklearn.metrics import accuracy_score\n",
    "#from sklearn.model_selection import cross_val_score, KFold\n",
    "from sklearn.metrics import confusion_matrix\n",
    "from sklearn.metrics import classification_report\n",
    "import seaborn as sns"
   ]
  },
  {
   "cell_type": "markdown",
   "metadata": {},
   "source": [
    "# Tiền xử lý dữ liệu\n",
    "Load dữ liệu từ  _dsjVoxArticles.tsv_. Xóa tiêu đề để loại bỏ các ký tự đặc biệt và dấu chấm câu. Lưu trữ tiêu đề trong _titles_ và Category trong _categories_"
   ]
  },
  {
   "cell_type": "code",
   "execution_count": 23,
   "metadata": {},
   "outputs": [],
   "source": [
    "titles = []\n",
    "categories = []\n",
    "with open('dsjVoxArticles.tsv','r',encoding=('utf-8')) as tsv:\n",
    "    count = 0;\n",
    "    for line in tsv:\n",
    "        a = line.strip().split('\\t')[:3]\n",
    "        if a[2] in ['Business & Finance', 'Health Care', 'Science & Health', 'Politics & Policy', 'Criminal Justice']:\n",
    "            title = a[0].lower()\n",
    "            title = re.sub('\\s\\W',' ',title)\n",
    "            title = re.sub('\\W\\s',' ',title)\n",
    "            titles.append(title)\n",
    "            categories.append(a[2])"
   ]
  },
  {
   "cell_type": "markdown",
   "metadata": {},
   "source": [
    "In và kiểm tra dữ liệu được tải trong _title_ và _category_"
   ]
  },
  {
   "cell_type": "code",
   "execution_count": 24,
   "metadata": {},
   "outputs": [
    {
     "name": "stdout",
     "output_type": "stream",
     "text": [
      "Titles-\n",
      " bitcoin is down 60 percent this year here's why i'm still optimistic.\n",
      "9 charts that explain the history of global wealth\n",
      "remember when legal marijuana was going to send crime skyrocketing?\n",
      "obamacare succeeded for one simple reason it's horrible to be uninsured\n",
      "the best obamacare data comes from a home office in michigan\n",
      "\n",
      "Categories-\n",
      " Business & Finance\n",
      "Business & Finance\n",
      "Criminal Justice\n",
      "Health Care\n",
      "Health Care\n"
     ]
    }
   ],
   "source": [
    "print(\"Titles-\\n\", \"\\n\".join(titles[:5]))\n",
    "print(\"\\nCategories-\\n\", \"\\n\".join(categories[:5]))"
   ]
  },
  {
   "cell_type": "markdown",
   "metadata": {},
   "source": [
    "# Tách dữ liệu\n",
    "Chia dữ liệu thành 3 phần - đào tạo, phát triển và kiểm tra. Sử dụng dữ liệu đào tạo để huấn luyện mô hình và sử dụng dữ liệu phát triển để kiểm tra và điều chỉnh các trọng số. Và cuối cùng sử dụng dữ liệu thử nghiệm để xem mô hình thực hiện như thế nào"
   ]
  },
  {
   "cell_type": "code",
   "execution_count": 25,
   "metadata": {},
   "outputs": [
    {
     "name": "stdout",
     "output_type": "stream",
     "text": [
      "Training:  1779\n",
      "Developement:  594\n",
      "Testing:  792\n"
     ]
    }
   ],
   "source": [
    "title_tr, title_te, category_tr, category_te = train_test_split(titles,categories)\n",
    "title_tr, title_de, category_tr, category_de = train_test_split(title_tr,category_tr)\n",
    "print(\"Training: \",len(title_tr))\n",
    "print(\"Developement: \",len(title_de),)\n",
    "print(\"Testing: \",len(title_te))"
   ]
  },
  {
   "cell_type": "markdown",
   "metadata": {},
   "source": [
    "Sử dụng wordcloud để trực quan hóa dữ liệu."
   ]
  },
  {
   "cell_type": "code",
   "execution_count": 41,
   "metadata": {},
   "outputs": [
    {
     "ename": "ModuleNotFoundError",
     "evalue": "No module named 'wordcloud'",
     "output_type": "error",
     "traceback": [
      "\u001b[1;31m---------------------------------------------------------------------------\u001b[0m",
      "\u001b[1;31mModuleNotFoundError\u001b[0m                       Traceback (most recent call last)",
      "\u001b[1;32m<ipython-input-41-13eb0939fa79>\u001b[0m in \u001b[0;36m<module>\u001b[1;34m\u001b[0m\n\u001b[1;32m----> 1\u001b[1;33m \u001b[1;32mfrom\u001b[0m \u001b[0mwordcloud\u001b[0m \u001b[1;32mimport\u001b[0m \u001b[0mWordCloud\u001b[0m\u001b[1;33m\u001b[0m\u001b[1;33m\u001b[0m\u001b[0m\n\u001b[0m\u001b[0;32m      2\u001b[0m \u001b[0mtext\u001b[0m \u001b[1;33m=\u001b[0m \u001b[1;34m\" \"\u001b[0m\u001b[1;33m.\u001b[0m\u001b[0mjoin\u001b[0m\u001b[1;33m(\u001b[0m\u001b[0mtitle_tr\u001b[0m\u001b[1;33m)\u001b[0m\u001b[1;33m\u001b[0m\u001b[1;33m\u001b[0m\u001b[0m\n\u001b[0;32m      3\u001b[0m \u001b[0mwordcloud\u001b[0m \u001b[1;33m=\u001b[0m \u001b[0mWordCloud\u001b[0m\u001b[1;33m(\u001b[0m\u001b[1;33m)\u001b[0m\u001b[1;33m.\u001b[0m\u001b[0mgenerate\u001b[0m\u001b[1;33m(\u001b[0m\u001b[0mtext\u001b[0m\u001b[1;33m)\u001b[0m\u001b[1;33m\u001b[0m\u001b[1;33m\u001b[0m\u001b[0m\n\u001b[0;32m      4\u001b[0m \u001b[0mplt\u001b[0m\u001b[1;33m.\u001b[0m\u001b[0mfigure\u001b[0m\u001b[1;33m(\u001b[0m\u001b[1;33m)\u001b[0m\u001b[1;33m\u001b[0m\u001b[1;33m\u001b[0m\u001b[0m\n\u001b[0;32m      5\u001b[0m \u001b[0mplt\u001b[0m\u001b[1;33m.\u001b[0m\u001b[0msubplots\u001b[0m\u001b[1;33m(\u001b[0m\u001b[0mfigsize\u001b[0m\u001b[1;33m=\u001b[0m\u001b[1;33m(\u001b[0m\u001b[1;36m20\u001b[0m\u001b[1;33m,\u001b[0m\u001b[1;36m12\u001b[0m\u001b[1;33m)\u001b[0m\u001b[1;33m)\u001b[0m\u001b[1;33m\u001b[0m\u001b[1;33m\u001b[0m\u001b[0m\n",
      "\u001b[1;31mModuleNotFoundError\u001b[0m: No module named 'wordcloud'"
     ]
    }
   ],
   "source": [
    "from wordcloud import WordCloud\n",
    "text = \" \".join(title_tr)\n",
    "wordcloud = WordCloud().generate(text)\n",
    "plt.figure()\n",
    "plt.subplots(figsize=(20,12))\n",
    "wordcloud = WordCloud(\n",
    "    background_color=\"white\",\n",
    "    max_words=len(text),\n",
    "    max_font_size=40,\n",
    "    relative_scaling=.5).generate(text)\n",
    "plt.imshow(wordcloud)\n",
    "plt.axis(\"off\")\n",
    "plt.show()"
   ]
  },
  {
   "cell_type": "markdown",
   "metadata": {},
   "source": [
    "# Xử lý dữ liệu\n",
    "## Vector hóa dữ liệu\n",
    "Vector hóa dữ liệu bằng cách sử dụng Bag of words (BOW)"
   ]
  },
  {
   "cell_type": "code",
   "execution_count": 27,
   "metadata": {},
   "outputs": [
    {
     "name": "stderr",
     "output_type": "stream",
     "text": [
      "f:\\python\\lib\\site-packages\\sklearn\\feature_extraction\\text.py:507: UserWarning: The parameter 'token_pattern' will not be used since 'tokenizer' is not None'\n",
      "  warnings.warn(\"The parameter 'token_pattern' will not be used\"\n"
     ]
    }
   ],
   "source": [
    "tokenizer = nltk.tokenize.RegexpTokenizer(r\"\\w+\")\n",
    "stop_words = nltk.corpus.stopwords.words(\"english\")\n",
    "vectorizer = CountVectorizer(tokenizer=tokenizer.tokenize, stop_words=stop_words)\n",
    "\n",
    "vectorizer.fit(iter(title_tr))\n",
    "Xtr = vectorizer.transform(iter(title_tr))\n",
    "Xde = vectorizer.transform(iter(title_de))\n",
    "Xte = vectorizer.transform(iter(title_te))\n",
    "\n",
    "encoder = LabelEncoder()\n",
    "encoder.fit(category_tr)\n",
    "Ytr = encoder.transform(category_tr)\n",
    "Yde = encoder.transform(category_de)\n",
    "Yte = encoder.transform(category_te)"
   ]
  },
  {
   "cell_type": "markdown",
   "metadata": {},
   "source": [
    "tạo từ điển ngược từ vectorizer. Lặp lại câu vectơ \"Các nhà khoa học Nasa là tốt\". Lấy vector để trở thành đại diện của ba từ \"tốt\", \"nasa\" và \"nhà khoa học\". Thứ tự đã được thay đổi vì túi từ không giữ trật tự."
   ]
  },
  {
   "cell_type": "code",
   "execution_count": 28,
   "metadata": {},
   "outputs": [
    {
     "name": "stdout",
     "output_type": "stream",
     "text": [
      "good\n",
      "nasa\n",
      "scientists\n"
     ]
    }
   ],
   "source": [
    "reverse_vocabulary = {}\n",
    "vocabulary = vectorizer.vocabulary_\n",
    "for word in vocabulary:\n",
    "    index = vocabulary[word]\n",
    "    reverse_vocabulary[index] = word\n",
    "\n",
    "vector = vectorizer.transform(iter(['Nasa scientists are good']))\n",
    "indexes = vector.indices\n",
    "for i in indexes:\n",
    "    print (reverse_vocabulary[i])"
   ]
  },
  {
   "cell_type": "markdown",
   "metadata": {},
   "source": [
    "## Giảm chiều dữ liệu\n",
    "Kiểm tra phương sai của tính năng và thả chúng dựa trên ngưỡng"
   ]
  },
  {
   "cell_type": "code",
   "execution_count": 29,
   "metadata": {},
   "outputs": [
    {
     "name": "stdout",
     "output_type": "stream",
     "text": [
      "Number of features before reduction :  4248\n",
      "Number of features after reduction :  1843\n"
     ]
    }
   ],
   "source": [
    "print(\"Number of features before reduction : \", Xtr.shape[1])\n",
    "selection = VarianceThreshold(threshold=0.001)\n",
    "Xtr_whole = copy.deepcopy(Xtr)\n",
    "Ytr_whole = copy.deepcopy(Ytr)\n",
    "selection.fit(Xtr)\n",
    "Xtr = selection.transform(Xtr)\n",
    "Xde = selection.transform(Xde)\n",
    "Xte = selection.transform(Xte)\n",
    "print(\"Number of features after reduction : \", Xtr.shape[1])"
   ]
  },
  {
   "cell_type": "markdown",
   "metadata": {},
   "source": [
    "## Lấy mẫu dữ liệu\n",
    "Đếm số lượng nhãn khác nhau trong tập dữ liệu và vẽ sơ đồ phân phối biểu đồ hình tròn."
   ]
  },
  {
   "cell_type": "code",
   "execution_count": 30,
   "metadata": {},
   "outputs": [
    {
     "data": {
      "image/png": "[encoded data removed]",
      "text/plain": [
       "<Figure size 432x288 with 1 Axes>"
      ]
     },
     "metadata": {},
     "output_type": "display_data"
    }
   ],
   "source": [
    "labels = list(set(Ytr))\n",
    "counts = []\n",
    "for label in labels:\n",
    "    counts.append(np.count_nonzero(Ytr == label))\n",
    "plt.pie(counts, labels=labels, autopct='%1.1f%%')\n",
    "plt.show()"
   ]
  },
  {
   "cell_type": "markdown",
   "metadata": {},
   "source": [
    "các nhãn lớp không được phân phối đồng đều, vì vậy hãy sử dụng SMOT và ghi đè lên các lớp có số lượng ít hơn để các lớp được phân bổ đều"
   ]
  },
  {
   "cell_type": "code",
   "execution_count": 31,
   "metadata": {},
   "outputs": [
    {
     "data": {
      "image/png": "[encoded data removed]",
      "text/plain": [
       "<Figure size 432x288 with 1 Axes>"
      ]
     },
     "metadata": {},
     "output_type": "display_data"
    }
   ],
   "source": [
    "sm = SMOTE(random_state=42)\n",
    "Xtr, Ytr = sm.fit_sample(Xtr, Ytr)\n",
    "labels = list(set(Ytr))\n",
    "counts = []\n",
    "for label in labels:\n",
    "    counts.append(np.count_nonzero(Ytr == label))\n",
    "plt.pie(counts, labels=labels, autopct='%1.1f%%')\n",
    "plt.show()"
   ]
  },
  {
   "cell_type": "markdown",
   "metadata": {},
   "source": [
    "# Đào tạo mô hình\n",
    "### Mô hình cơ sở\n",
    "Các tầng phân tầng khác: tạo ra các dự đoán bằng cách tôn trọng tập huấn phân phối lớp."
   ]
  },
  {
   "cell_type": "code",
   "execution_count": 32,
   "metadata": {},
   "outputs": [
    {
     "name": "stdout",
     "output_type": "stream",
     "text": [
      "                    precision    recall  f1-score   support\n",
      "\n",
      "Business & Finance       0.06      0.09      0.07        81\n",
      "  Criminal Justice       0.12      0.18      0.14        83\n",
      "       Health Care       0.12      0.27      0.17        63\n",
      " Politics & Policy       0.39      0.19      0.26       232\n",
      "  Science & Health       0.18      0.14      0.16       135\n",
      "\n",
      "          accuracy                           0.17       594\n",
      "         macro avg       0.18      0.17      0.16       594\n",
      "      weighted avg       0.23      0.17      0.18       594\n",
      "\n"
     ]
    }
   ],
   "source": [
    "dc = DummyClassifier(strategy=\"stratified\")\n",
    "dc.fit(Xtr, Ytr)\n",
    "pred = dc.predict(Xde)\n",
    "print(classification_report(Yde, pred, target_names=encoder.classes_))"
   ]
  },
  {
   "cell_type": "markdown",
   "metadata": {},
   "source": [
    "### Cây quyết định"
   ]
  },
  {
   "cell_type": "code",
   "execution_count": 33,
   "metadata": {
    "scrolled": true
   },
   "outputs": [
    {
     "name": "stdout",
     "output_type": "stream",
     "text": [
      "                    precision    recall  f1-score   support\n",
      "\n",
      "Business & Finance       0.32      0.54      0.40        81\n",
      "  Criminal Justice       0.38      0.57      0.46        83\n",
      "       Health Care       0.45      0.60      0.51        63\n",
      " Politics & Policy       0.69      0.49      0.57       232\n",
      "  Science & Health       0.69      0.41      0.52       135\n",
      "\n",
      "          accuracy                           0.50       594\n",
      "         macro avg       0.50      0.52      0.49       594\n",
      "      weighted avg       0.57      0.50      0.51       594\n",
      "\n"
     ]
    }
   ],
   "source": [
    "dt = DecisionTreeClassifier()\n",
    "dt.fit(Xtr, Ytr)\n",
    "pred = dt.predict(Xde)\n",
    "print(classification_report(Yde, pred, target_names=encoder.classes_))"
   ]
  },
  {
   "cell_type": "markdown",
   "metadata": {},
   "source": [
    "### Rừng ngẫu nhiên "
   ]
  },
  {
   "cell_type": "code",
   "execution_count": 36,
   "metadata": {},
   "outputs": [
    {
     "name": "stdout",
     "output_type": "stream",
     "text": [
      "                    precision    recall  f1-score   support\n",
      "\n",
      "Business & Finance       0.42      0.54      0.48        81\n",
      "  Criminal Justice       0.42      0.66      0.51        83\n",
      "       Health Care       0.47      0.78      0.59        63\n",
      " Politics & Policy       0.79      0.54      0.64       232\n",
      "  Science & Health       0.67      0.47      0.55       135\n",
      "\n",
      "          accuracy                           0.57       594\n",
      "         macro avg       0.55      0.60      0.55       594\n",
      "      weighted avg       0.63      0.57      0.57       594\n",
      "\n"
     ]
    }
   ],
   "source": [
    "rf = RandomForestClassifier(n_estimators=40)\n",
    "rf.fit(Xtr, Ytr)\n",
    "pred = rf.predict(Xde)\n",
    "print(classification_report(Yde, pred, target_names=encoder.classes_))"
   ]
  },
  {
   "cell_type": "markdown",
   "metadata": {},
   "source": [
    "### Đa hình Naive Bayesian"
   ]
  },
  {
   "cell_type": "code",
   "execution_count": 37,
   "metadata": {},
   "outputs": [
    {
     "name": "stdout",
     "output_type": "stream",
     "text": [
      "                    precision    recall  f1-score   support\n",
      "\n",
      "Business & Finance       0.58      0.56      0.57        81\n",
      "  Criminal Justice       0.61      0.70      0.65        83\n",
      "       Health Care       0.44      0.60      0.51        63\n",
      " Politics & Policy       0.73      0.66      0.69       232\n",
      "  Science & Health       0.71      0.64      0.67       135\n",
      "\n",
      "          accuracy                           0.64       594\n",
      "         macro avg       0.61      0.63      0.62       594\n",
      "      weighted avg       0.66      0.64      0.65       594\n",
      "\n"
     ]
    }
   ],
   "source": [
    "nb = MultinomialNB()\n",
    "nb.fit(Xtr, Ytr)\n",
    "pred = nb.predict(Xde)\n",
    "print(classification_report(Yde, pred, target_names=encoder.classes_))"
   ]
  },
  {
   "cell_type": "markdown",
   "metadata": {},
   "source": [
    "### Support Vector Classification"
   ]
  },
  {
   "cell_type": "code",
   "execution_count": 38,
   "metadata": {},
   "outputs": [
    {
     "name": "stdout",
     "output_type": "stream",
     "text": [
      "                    precision    recall  f1-score   support\n",
      "\n",
      "Business & Finance       0.28      0.21      0.24        81\n",
      "  Criminal Justice       0.59      0.19      0.29        83\n",
      "       Health Care       0.67      0.32      0.43        63\n",
      " Politics & Policy       0.50      0.88      0.64       232\n",
      "  Science & Health       0.65      0.31      0.42       135\n",
      "\n",
      "          accuracy                           0.51       594\n",
      "         macro avg       0.54      0.38      0.40       594\n",
      "      weighted avg       0.53      0.51      0.46       594\n",
      "\n"
     ]
    }
   ],
   "source": [
    "from sklearn.svm import SVC\n",
    "svc = SVC()\n",
    "svc.fit(Xtr, Ytr)\n",
    "pred = svc.predict(Xde)\n",
    "print(classification_report(Yde, pred, target_names=encoder.classes_))"
   ]
  },
  {
   "cell_type": "markdown",
   "metadata": {},
   "source": [
    "### Multilayered Perceptron"
   ]
  },
  {
   "cell_type": "code",
   "execution_count": 39,
   "metadata": {},
   "outputs": [
    {
     "name": "stdout",
     "output_type": "stream",
     "text": [
      "                    precision    recall  f1-score   support\n",
      "\n",
      "Business & Finance       0.58      0.52      0.55        81\n",
      "  Criminal Justice       0.52      0.65      0.58        83\n",
      "       Health Care       0.39      0.49      0.44        63\n",
      " Politics & Policy       0.69      0.68      0.68       232\n",
      "  Science & Health       0.70      0.56      0.62       135\n",
      "\n",
      "          accuracy                           0.61       594\n",
      "         macro avg       0.57      0.58      0.57       594\n",
      "      weighted avg       0.62      0.61      0.61       594\n",
      "\n"
     ]
    }
   ],
   "source": [
    "mlp = MLPClassifier(solver='adam', alpha=1e-5, hidden_layer_sizes=(100, 20), random_state=1, max_iter=400)\n",
    "mlp.fit(Xtr, Ytr)\n",
    "pred = mlp.predict(Xde)\n",
    "print(classification_report(Yde, pred, target_names=encoder.classes_))"
   ]
  },
  {
   "cell_type": "markdown",
   "metadata": {},
   "source": [
    "# Dựa vào thử nghiệm nhiều models => Multinomial Naive Bayesian\n",
    "**Multinomial Naive Bayesian** làm việc tốt nhất Hãy chạy NB trên dữ liệu thử nghiệm và lấy ma trận hỗn hợp và bản đồ nhiệt của nó.\n",
    "## Dự đoán dữ liệu kiểm tra"
   ]
  },
  {
   "cell_type": "code",
   "execution_count": 40,
   "metadata": {},
   "outputs": [
    {
     "name": "stdout",
     "output_type": "stream",
     "text": [
      "                    precision    recall  f1-score   support\n",
      "\n",
      "Business & Finance       0.52      0.59      0.55       102\n",
      "  Criminal Justice       0.58      0.55      0.56       117\n",
      "       Health Care       0.55      0.72      0.62        81\n",
      " Politics & Policy       0.74      0.68      0.71       352\n",
      "  Science & Health       0.67      0.66      0.67       140\n",
      "\n",
      "          accuracy                           0.65       792\n",
      "         macro avg       0.61      0.64      0.62       792\n",
      "      weighted avg       0.66      0.65      0.65       792\n",
      "\n"
     ]
    },
    {
     "data": {
      "text/plain": [
       "<matplotlib.axes._subplots.AxesSubplot at 0x1163cd0>"
      ]
     },
     "execution_count": 40,
     "metadata": {},
     "output_type": "execute_result"
    },
    {
     "data": {
      "image/png": "[encoded data removed]",
      "text/plain": [
       "<Figure size 432x288 with 2 Axes>"
      ]
     },
     "metadata": {
      "needs_background": "light"
     },
     "output_type": "display_data"
    }
   ],
   "source": [
    "pred = nb.predict(Xte)\n",
    "print(classification_report(Yte, pred, target_names=encoder.classes_))\n",
    "sns.heatmap(confusion_matrix(Yte, pred))"
   ]
  },
  {
   "cell_type": "code",
   "execution_count": null,
   "metadata": {},
   "outputs": [],
   "source": []
  },
  {
   "cell_type": "code",
   "execution_count": 42,
   "metadata": {},
   "outputs": [
    {
     "name": "stdout",
     "output_type": "stream",
     "text": [
      "Business & Finance - ['people', 'best', 'apple', 'charts', 'money', 'big', 'make', '5', 'chart', 'us', 'one', '000', 'deal', 'explained', 'greece', 'â', 'crisis', 'economy', 'could', 'new'] \n",
      "\n",
      "Criminal Justice - ['report', 'jury', 'america', 'black', 'crime', 'rape', 'â', 'brown', 'michael', '5', 'justice', 'darren', 'wilson', 'explained', 'people', 'marijuana', 'one', 'new', 'police', 'ferguson'] \n",
      "\n",
      "Health Care - ['â', 'chart', 'cut', 'study', 'percent', 'control', 'insurance', '000', 'medicaid', 'uninsured', 'new', 'people', 'doctors', 'americans', 'could', 'va', 'one', 'care', 'health', 'obamacare'] \n",
      "\n",
      "Politics & Policy - ['american', 'people', 'time', 'clinton', 'plan', 'president', 'scott', 'republican', 'walker', 'house', 'health', 'gop', 'new', 'explained', 'big', 'debate', 'â', 'one', 'obamacare', 'obama'] \n",
      "\n",
      "Science & Health - ['ebola', 'world', 'wrong', 'explained', 'might', 'study', 'health', 'dr', 'could', 'pluto', 'nasa', 'space', 'year', 'people', 'us', 'one', 'science', 'scientists', 'â', 'new'] \n",
      "\n"
     ]
    }
   ],
   "source": [
    "nb1 = MultinomialNB()\n",
    "nb1.fit(Xtr_whole, Ytr_whole)\n",
    "coefs = nb1.coef_\n",
    "target_names = encoder.classes_\n",
    "\n",
    "for i in range(len(target_names)):\n",
    "    words = []\n",
    "    for j in coefs[i].argsort()[-20:]:\n",
    "        words.append(reverse_vocabulary[j])\n",
    "    print (target_names[i], '-', words, \"\\n\")"
   ]
  },
  {
   "cell_type": "code",
   "execution_count": null,
   "metadata": {},
   "outputs": [],
   "source": []
  }
 ],
 "metadata": {
  "kernelspec": {
   "display_name": "Python 3",
   "language": "python",
   "name": "python3"
  },
  "language_info": {
   "codemirror_mode": {
    "name": "ipython",
    "version": 3
   },
   "file_extension": ".py",
   "mimetype": "text/x-python",
   "name": "python",
   "nbconvert_exporter": "python",
   "pygments_lexer": "ipython3",
   "version": "3.8.0"
  }
 },
 "nbformat": 4,
 "nbformat_minor": 2
}
